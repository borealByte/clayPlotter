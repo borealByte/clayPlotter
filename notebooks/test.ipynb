{
 "cells": [
  {
   "cell_type": "markdown",
   "metadata": {},
   "source": [
    "# ClayPlotter Test Notebook\n",
    "\n",
    "\n",
    "\n",
    "This notebook demonstrates the usage of the `ChoroplethPlotter` class to generate maps for USA states and Canadian provinces."
   ]
  },
  {
   "cell_type": "code",
   "execution_count": null,
   "metadata": {
    "execution": {
     "iopub.execute_input": "2025-04-09T23:09:49.063701Z",
     "iopub.status.busy": "2025-04-09T23:09:49.063629Z",
     "iopub.status.idle": "2025-04-09T23:09:49.417141Z",
     "shell.execute_reply": "2025-04-09T23:09:49.416781Z"
    }
   },
   "outputs": [],
   "source": [
    "import logging\n",
    "\n",
    "import pandas as pd\n",
    "\n",
    "import matplotlib.pyplot as plt\n",
    "\n",
    "from clayPlotter import ChoroplethPlotter # Import the main class"
   ]
  },
  {
   "cell_type": "markdown",
   "metadata": {},
   "source": [
    "# Configure logging"
   ]
  },
  {
   "cell_type": "code",
   "execution_count": null,
   "metadata": {
    "execution": {
     "iopub.execute_input": "2025-04-09T23:09:49.418809Z",
     "iopub.status.busy": "2025-04-09T23:09:49.418531Z",
     "iopub.status.idle": "2025-04-09T23:09:49.420251Z",
     "shell.execute_reply": "2025-04-09T23:09:49.420086Z"
    }
   },
   "outputs": [],
   "source": [
    "logging.basicConfig(level=logging.DEBUG, format='%(asctime)s - %(name)s - %(levelname)s - %(message)s') # Set level to DEBUG"
   ]
  },
  {
   "cell_type": "markdown",
   "metadata": {},
   "source": [
    "## 1. USA States - Admission Year"
   ]
  },
  {
   "cell_type": "markdown",
   "metadata": {},
   "source": [
    "# --- Define Sample Data ---"
   ]
  },
  {
   "cell_type": "code",
   "execution_count": null,
   "metadata": {
    "execution": {
     "iopub.execute_input": "2025-04-09T23:09:49.420964Z",
     "iopub.status.busy": "2025-04-09T23:09:49.420892Z",
     "iopub.status.idle": "2025-04-09T23:09:49.422806Z",
     "shell.execute_reply": "2025-04-09T23:09:49.422654Z"
    }
   },
   "outputs": [],
   "source": [
    "admission_data = {\n",
    "\n",
    "    'Alabama': 1819, 'Alaska': 1959, 'Arizona': 1912, 'Arkansas': 1836, 'California': 1850,\n",
    "\n",
    "    'Colorado': 1876, 'Connecticut': 1788, 'Delaware': 1787, 'Florida': 1845, 'Georgia': 1788,\n",
    "\n",
    "    'Hawaii': 1959, 'Idaho': 1890, 'Illinois': 1818, 'Indiana': 1816, 'Iowa': 1846,\n",
    "\n",
    "    'Kansas': 1861, 'Kentucky': 1792, 'Louisiana': 1812, 'Maine': 1820, 'Maryland': 1788,\n",
    "\n",
    "    'Massachusetts': 1788, 'Michigan': 1837, 'Minnesota': 1858, 'Mississippi': 1817,\n",
    "\n",
    "    'Missouri': 1821, 'Montana': 1889, 'Nebraska': 1867, 'Nevada': 1864, 'New Hampshire': 1788,\n",
    "\n",
    "    'New Jersey': 1787, 'New Mexico': 1912, 'New York': 1788, 'North Carolina': 1789,\n",
    "\n",
    "    'North Dakota': 1889, 'Ohio': 1803, 'Oklahoma': 1907, 'Oregon': 1859, 'Pennsylvania': 1787,\n",
    "\n",
    "    'Rhode Island': 1790, 'South Carolina': 1788, 'South Dakota': 1889, 'Tennessee': 1796,\n",
    "\n",
    "    'Texas': 1845, 'Utah': 1896, 'Vermont': 1791, 'Virginia': 1788, 'Washington': 1889,\n",
    "\n",
    "    'West Virginia': 1863, 'Wisconsin': 1848, 'Wyoming': 1890\n",
    "\n",
    "}"
   ]
  },
  {
   "cell_type": "markdown",
   "metadata": {},
   "source": [
    "# Convert to DataFrame"
   ]
  },
  {
   "cell_type": "code",
   "execution_count": null,
   "metadata": {
    "execution": {
     "iopub.execute_input": "2025-04-09T23:09:49.423414Z",
     "iopub.status.busy": "2025-04-09T23:09:49.423346Z",
     "iopub.status.idle": "2025-04-09T23:09:49.425008Z",
     "shell.execute_reply": "2025-04-09T23:09:49.424858Z"
    }
   },
   "outputs": [],
   "source": [
    "location_col_usa = 'State'\n",
    "\n",
    "value_col_usa = 'Admission Year'\n",
    "\n",
    "usa_df = pd.DataFrame(list(admission_data.items()), columns=[location_col_usa, value_col_usa])"
   ]
  },
  {
   "cell_type": "code",
   "execution_count": null,
   "metadata": {
    "execution": {
     "iopub.execute_input": "2025-04-09T23:09:49.425541Z",
     "iopub.status.busy": "2025-04-09T23:09:49.425477Z",
     "iopub.status.idle": "2025-04-09T23:09:49.427902Z",
     "shell.execute_reply": "2025-04-09T23:09:49.427747Z"
    }
   },
   "outputs": [],
   "source": [
    "print(\"USA Data:\")\n",
    "print(usa_df.head())"
   ]
  },
  {
   "cell_type": "markdown",
   "metadata": {},
   "source": [
    "# --- Instantiate Plotter and Plot ---"
   ]
  },
  {
   "cell_type": "code",
   "execution_count": null,
   "metadata": {
    "execution": {
     "iopub.execute_input": "2025-04-09T23:09:49.443526Z",
     "iopub.status.busy": "2025-04-09T23:09:49.443422Z",
     "iopub.status.idle": "2025-04-09T23:09:50.491464Z",
     "shell.execute_reply": "2025-04-09T23:09:50.491260Z"
    }
   },
   "outputs": [],
   "source": [
    "try:\n",
    "\n",
    "    logging.info(\"Instantiating plotter for USA states...\")\n",
    "\n",
    "    usa_plotter = ChoroplethPlotter(\n",
    "\n",
    "        geography_key='usa_states',\n",
    "\n",
    "        data=usa_df,\n",
    "\n",
    "        location_col=location_col_usa,\n",
    "\n",
    "        value_col=value_col_usa\n",
    "\n",
    "    )\n",
    "\n",
    "\n",
    "\n",
    "    logging.info(\"Generating USA plot...\")\n",
    "\n",
    "    # The plot method now handles data prep internally based on config\n",
    "\n",
    "    # The default geo_join_column='name' in plot() should work if the shapefile has a 'name' column\n",
    "\n",
    "    # If the shapefile uses a different column (like 'postal'), specify it: geo_join_column='postal'\n",
    "\n",
    "    fig_usa, ax_usa = usa_plotter.plot(title=\"USA State Admission Year\")\n",
    "\n",
    "\n",
    "\n",
    "    # Save or show the plot\n",
    "\n",
    "    output_filename_usa = \"my_choropleth_map_usa.png\"\n",
    "\n",
    "    plt.savefig(output_filename_usa)\n",
    "\n",
    "    logging.info(f\"USA map saved to {output_filename_usa}\")\n",
    "\n",
    "    plt.show() # Display the plot in the notebook\n",
    "\n",
    "\n",
    "\n",
    "except (ValueError, TypeError, FileNotFoundError, RuntimeError, KeyError) as e:\n",
    "\n",
    "    logging.error(f\"Failed to generate USA plot: {e}\", exc_info=True)"
   ]
  },
  {
   "cell_type": "markdown",
   "metadata": {},
   "source": [
    "## 2. Canadian Provinces - Confederation Year"
   ]
  },
  {
   "cell_type": "markdown",
   "metadata": {},
   "source": [
    "# --- Define Sample Data ---"
   ]
  },
  {
   "cell_type": "code",
   "execution_count": null,
   "metadata": {
    "execution": {
     "iopub.execute_input": "2025-04-09T23:09:50.493381Z",
     "iopub.status.busy": "2025-04-09T23:09:50.493145Z",
     "iopub.status.idle": "2025-04-09T23:09:50.494790Z",
     "shell.execute_reply": "2025-04-09T23:09:50.494647Z"
    }
   },
   "outputs": [],
   "source": [
    "confederation_data = {\n",
    "\n",
    "    'Ontario': 1867,\n",
    "\n",
    "    'Québec': 1867, # Corrected spelling\n",
    "\n",
    "    'Nova Scotia': 1867,\n",
    "\n",
    "    'New Brunswick': 1867,\n",
    "\n",
    "    'Manitoba': 1870,\n",
    "\n",
    "    'British Columbia': 1871,\n",
    "\n",
    "    'Prince Edward Island': 1873,\n",
    "\n",
    "    'Saskatchewan': 1905,\n",
    "\n",
    "    'Alberta': 1905,\n",
    "\n",
    "    'Newfoundland and Labrador': 1949,\n",
    "\n",
    "    'Yukon': 1898, # Territory\n",
    "\n",
    "    'Northwest Territories': 1870, # Territory\n",
    "\n",
    "    'Nunavut': 1999 # Territory\n",
    "\n",
    "}"
   ]
  },
  {
   "cell_type": "markdown",
   "metadata": {},
   "source": [
    "# Convert to DataFrame"
   ]
  },
  {
   "cell_type": "code",
   "execution_count": null,
   "metadata": {
    "execution": {
     "iopub.execute_input": "2025-04-09T23:09:50.495372Z",
     "iopub.status.busy": "2025-04-09T23:09:50.495301Z",
     "iopub.status.idle": "2025-04-09T23:09:50.496844Z",
     "shell.execute_reply": "2025-04-09T23:09:50.496701Z"
    }
   },
   "outputs": [],
   "source": [
    "location_col_can = 'Province/Territory'\n",
    "\n",
    "value_col_can = 'Confederation Year'\n",
    "\n",
    "can_df = pd.DataFrame(list(confederation_data.items()), columns=[location_col_can, value_col_can])"
   ]
  },
  {
   "cell_type": "code",
   "execution_count": null,
   "metadata": {
    "execution": {
     "iopub.execute_input": "2025-04-09T23:09:50.497462Z",
     "iopub.status.busy": "2025-04-09T23:09:50.497396Z",
     "iopub.status.idle": "2025-04-09T23:09:50.499615Z",
     "shell.execute_reply": "2025-04-09T23:09:50.499467Z"
    }
   },
   "outputs": [],
   "source": [
    "print(\"\\nCanada Data:\")\n",
    "print(can_df.head())"
   ]
  },
  {
   "cell_type": "code",
   "execution_count": null,
   "metadata": {
    "execution": {
     "iopub.execute_input": "2025-04-09T23:09:50.500272Z",
     "iopub.status.busy": "2025-04-09T23:09:50.500208Z",
     "iopub.status.idle": "2025-04-09T23:09:51.396094Z",
     "shell.execute_reply": "2025-04-09T23:09:51.395906Z"
    }
   },
   "outputs": [],
   "source": [
    "# --- Instantiate Plotter and Plot ---\n",
    "try:\n",
    "    logging.info(\"Instantiating plotter for Canadian provinces...\")\n",
    "    can_plotter = ChoroplethPlotter(\n",
    "        geography_key='canada_provinces',\n",
    "        data=can_df,\n",
    "        location_col=location_col_can,\n",
    "        value_col=value_col_can\n",
    "    )\n",
    "\n",
    "    logging.info(\"Generating Canada plot...\")\n",
    "    # Assuming the canada_provinces config and shapefile use 'name' for joining\n",
    "    fig_can, ax_can = can_plotter.plot(title=\"Canadian Province/Territory Confederation Year\")\n",
    "\n",
    "    # Save or show the plot\n",
    "    output_filename_can = \"my_choropleth_map_canada.png\"\n",
    "    plt.savefig(output_filename_can)\n",
    "    logging.info(f\"Canada map saved to {output_filename_can}\")\n",
    "    plt.show() # Display the plot in the notebook\n",
    "\n",
    "except (ValueError, TypeError, FileNotFoundError, RuntimeError, KeyError) as e:\n",
    "    logging.error(f\"Failed to generate Canada plot: {e}\", exc_info=True)"
   ]
  },
  {
   "cell_type": "code",
   "execution_count": null,
   "metadata": {
    "execution": {
     "iopub.execute_input": "2025-04-09T23:09:51.397974Z",
     "iopub.status.busy": "2025-04-09T23:09:51.397891Z",
     "iopub.status.idle": "2025-04-09T23:09:52.356660Z",
     "shell.execute_reply": "2025-04-09T23:09:52.356381Z"
    }
   },
   "outputs": [],
   "source": [
    "## 3. China Provinces - Population (Approx. 2020/2021)\n",
    "# --- Define Sample Data ---\n",
    "# Note: Using approximate population figures for demonstration.\n",
    "# Excludes SARs (Hong Kong, Macau) and Taiwan for simplicity in this example.\n",
    "china_population_data = {\n",
    "    'Beijing': 21500000, 'Tianjin': 13900000, 'Hebei': 74600000, 'Shanxi': 34900000,\n",
    "    'Inner Mongolia': 24000000, 'Liaoning': 42600000, 'Jilin': 24000000, 'Heilongjiang': 31800000,\n",
    "    'Shanghai': 24900000, 'Jiangsu': 84800000, 'Zhejiang': 64600000, 'Anhui': 61000000,\n",
    "    'Fujian': 41500000, 'Jiangxi': 45200000, 'Shandong': 101500000, 'Henan': 99400000,\n",
    "    'Hubei': 57800000, 'Hunan': 66400000, 'Guangdong': 126000000, 'Guangxi': 50100000,\n",
    "    'Hainan': 10100000, 'Chongqing': 32100000, 'Sichuan': 83600000, 'Guizhou': 38500000,\n",
    "    'Yunnan': 47200000, 'Tibet': 3600000, 'Shaanxi': 39500000, 'Gansu': 25000000,\n",
    "    'Qinghai': 5900000, 'Ningxia': 7200000, 'Xinjiang': 25900000\n",
    "}\n",
    "\n",
    "# Convert to DataFrame\n",
    "location_col_chn = 'Province' # Matches 'name_en' potentially in shapefile\n",
    "value_col_chn = 'Population'\n",
    "chn_df = pd.DataFrame(list(china_population_data.items()), columns=[location_col_chn, value_col_chn])\n",
    "\n",
    "print(\"\\nChina Data:\")\n",
    "print(chn_df.head())\n",
    "\n",
    "# --- Instantiate Plotter and Plot ---\n",
    "try:\n",
    "    logging.info(\"Instantiating plotter for China provinces...\")\n",
    "    # IMPORTANT: The geo_join_column needs to match the column specified in\n",
    "    # china_provinces.yaml's label_settings.level1_code_column AND the actual shapefile.\n",
    "    # We are assuming 'name_en' based on the config, but this might need adjustment.\n",
    "    # Let's try joining on the 'Province' column name we used in the DataFrame,\n",
    "    # assuming the shapefile has a matching 'name_en' or similar column.\n",
    "    # The plotter will try to merge on `geo_join_column` (left) and `location_col` (right).\n",
    "    # We need to ensure the shapefile's join column name is correctly identified.\n",
    "    # Let's assume the shapefile uses 'name_en' as hinted in the config.\n",
    "    geo_join_col_chn = 'name_en' # This MUST match a column in the shapefile GDF\n",
    "\n",
    "    chn_plotter = ChoroplethPlotter(\n",
    "        geography_key='china_provinces', # Use the new key\n",
    "        data=chn_df,\n",
    "        location_col=location_col_chn, # 'Province' from our DataFrame\n",
    "        value_col=value_col_chn      # 'Population' from our DataFrame\n",
    "    )\n",
    "\n",
    "    logging.info(\"Generating China plot...\")\n",
    "    # Pass the assumed shapefile join column name explicitly\n",
    "    fig_chn, ax_chn = chn_plotter.plot(\n",
    "        title=\"China Province Population (Approx. 2020/21)\",\n",
    "        geo_join_column=geo_join_col_chn # Explicitly tell plotter which GDF column to use\n",
    "    )\n",
    "\n",
    "    # Save or show the plot\n",
    "    output_filename_chn = \"my_choropleth_map_china.png\"\n",
    "    plt.savefig(output_filename_chn)\n",
    "    logging.info(f\"China map saved to {output_filename_chn}\")\n",
    "    plt.show() # Display the plot in the notebook\n",
    "\n",
    "except (ValueError, TypeError, FileNotFoundError, RuntimeError, KeyError) as e:\n",
    "    logging.error(f\"Failed to generate China plot: {e}\", exc_info=True)\n"
   ]
  },
  {
   "cell_type": "markdown",
   "metadata": {},
   "source": [
    "## 4. Brazil States - Population (Approx. 2023)"
   ]
  },
  {
   "cell_type": "code",
   "execution_count": null,
   "metadata": {
    "execution": {
     "iopub.execute_input": "2025-04-09T23:09:52.358006Z",
     "iopub.status.busy": "2025-04-09T23:09:52.357933Z",
     "iopub.status.idle": "2025-04-09T23:09:52.360916Z",
     "shell.execute_reply": "2025-04-09T23:09:52.360748Z"
    }
   },
   "outputs": [],
   "source": [
    "# --- Define Sample Data (Approx. 2023) ---\n",
    "brazil_population_data = {\n",
    "    'Acre': 930000, 'Alagoas': 3400000, 'Amapá': 900000, 'Amazonas': 4300000, 'Bahia': 15200000,\n",
    "    'Ceará': 9300000, 'Distrito Federal': 3100000, 'Espírito Santo': 4200000, 'Goiás': 7400000,\n",
    "    'Maranhão': 7200000, 'Mato Grosso': 3700000, 'Mato Grosso do Sul': 2900000, 'Minas Gerais': 21700000,\n",
    "    'Pará': 8900000, 'Paraíba': 4100000, 'Paraná': 11900000, 'Pernambuco': 9800000, 'Piauí': 3300000,\n",
    "    'Rio de Janeiro': 17800000, 'Rio Grande do Norte': 3600000, 'Rio Grande do Sul': 11600000,\n",
    "    'Rondônia': 1800000, 'Roraima': 700000, 'Santa Catarina': 7500000, 'São Paulo': 47000000,\n",
    "    'Sergipe': 2400000, 'Tocantins': 1600000\n",
    "}\n",
    "\n",
    "# Convert to DataFrame\n",
    "location_col_bra = 'State' # Assuming 'name_en' in shapefile\n",
    "value_col_bra = 'Population'\n",
    "bra_df = pd.DataFrame(list(brazil_population_data.items()), columns=[location_col_bra, value_col_bra])\n",
    "\n",
    "print(\"\\nBrazil Data:\")\n",
    "print(bra_df.head())"
   ]
  },
  {
   "cell_type": "code",
   "execution_count": null,
   "metadata": {
    "execution": {
     "iopub.execute_input": "2025-04-09T23:09:52.361570Z",
     "iopub.status.busy": "2025-04-09T23:09:52.361504Z",
     "iopub.status.idle": "2025-04-09T23:09:53.306555Z",
     "shell.execute_reply": "2025-04-09T23:09:53.306301Z"
    }
   },
   "outputs": [],
   "source": [
    "# --- Instantiate Plotter and Plot ---\n",
    "try:\n",
    "    logging.info(\"Instantiating plotter for Brazil states...\")\n",
    "    geo_join_col_bra = 'name_en' # This MUST match a column in the shapefile GDF\n",
    "\n",
    "    bra_plotter = ChoroplethPlotter(\n",
    "        geography_key='brazil_states', # Use the new key\n",
    "        data=bra_df,\n",
    "        location_col=location_col_bra, # 'State' from our DataFrame\n",
    "        value_col=value_col_bra      # 'Population' from our DataFrame\n",
    "    )\n",
    "\n",
    "    logging.info(\"Generating Brazil plot...\")\n",
    "    # Pass the assumed shapefile join column name and colormap\n",
    "    fig_bra, ax_bra = bra_plotter.plot(\n",
    "        title=\"Brazil State Population (Approx. 2023)\",\n",
    "        geo_join_column=geo_join_col_bra, # Explicitly tell plotter which GDF column to use\n",
    "        cmap='YlGnBu' # Brazil flag colors inspired\n",
    "    )\n",
    "\n",
    "    # Save or show the plot\n",
    "    output_filename_bra = \"my_choropleth_map_brazil.png\"\n",
    "    plt.savefig(output_filename_bra)\n",
    "    logging.info(f\"Brazil map saved to {output_filename_bra}\")\n",
    "    plt.show() # Display the plot in the notebook\n",
    "\n",
    "except (ValueError, TypeError, FileNotFoundError, RuntimeError, KeyError) as e:\n",
    "    logging.error(f\"Failed to generate Brazil plot: {e}\", exc_info=True)"
   ]
  },
  {
   "cell_type": "code",
   "execution_count": null,
   "metadata": {
    "execution": {
     "iopub.execute_input": "2025-04-09T23:09:53.307454Z",
     "iopub.status.busy": "2025-04-09T23:09:53.307375Z",
     "iopub.status.idle": "2025-04-09T23:09:53.309088Z",
     "shell.execute_reply": "2025-04-09T23:09:53.308890Z"
    }
   },
   "outputs": [],
   "source": [
    "print(\"\\nNotebook finished.\")"
   ]
  }
 ],
 "metadata": {
  "kernelspec": {
   "display_name": "geo",
   "language": "python",
   "name": "python3"
  },
  "language_info": {
   "codemirror_mode": {
    "name": "ipython",
    "version": 3
   },
   "file_extension": ".py",
   "mimetype": "text/x-python",
   "name": "python",
   "nbconvert_exporter": "python",
   "pygments_lexer": "ipython3",
   "version": "3.13.2"
  }
 },
 "nbformat": 4,
 "nbformat_minor": 2
}
